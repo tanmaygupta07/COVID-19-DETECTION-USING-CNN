{
 "cells": [
  {
   "attachments": {},
   "cell_type": "markdown",
   "metadata": {},
   "source": [
    "# ``COVID-19 DETECTION USING CNN``"
   ]
  },
  {
   "cell_type": "code",
   "execution_count": null,
   "metadata": {},
   "outputs": [],
   "source": [
    "import matplotlib.pyplot as plt\n",
    "import keras\n",
    "import numpy as np\n",
    "import os\n",
    "import sklearn.metrics as metrics\n",
    "import seaborn as sns\n",
    "\n",
    "from PIL import Image\n",
    "from keras.preprocessing.image import ImageDataGenerator\n",
    "from tensorflow.keras.preprocessing import image\n",
    "from sklearn.metrics import confusion_matrix"
   ]
  },
  {
   "cell_type": "code",
   "execution_count": null,
   "metadata": {},
   "outputs": [],
   "source": [
    "train_path = \"Dataset/Train\"\n",
    "test_path = \"Dataset/Test\""
   ]
  },
  {
   "cell_type": "code",
   "execution_count": null,
   "metadata": {},
   "outputs": [],
   "source": [
    "# Displaying a image form our dataset\n",
    "\n",
    "\n",
    "path = \"Dataset/Train/Covid/019.png\"\n",
    "img = Image.open(path)\n",
    "img = img.resize((256, 256))\n",
    "plt.imshow(img)"
   ]
  },
  {
   "cell_type": "code",
   "execution_count": null,
   "metadata": {},
   "outputs": [],
   "source": [
    "# Converting RGB image into Dataset(array) and scaling them down by (1/255)\n",
    "\n",
    "\n",
    "# Taining dataset\n",
    "train = ImageDataGenerator(rescale = 1./255)\n",
    "\n",
    "# Test dataset\n",
    "test = ImageDataGenerator(rescale = 1./255)"
   ]
  },
  {
   "cell_type": "code",
   "execution_count": null,
   "metadata": {},
   "outputs": [],
   "source": [
    "#Converting dataset into \"batches\" to supply\n",
    "\n",
    "\n",
    "train_dataset = train.flow_from_directory(\n",
    "    train_path,\n",
    "    target_size = (150, 150),\n",
    "    batch_size = 56\n",
    ")\n",
    "                                     \n",
    "test_dataset = test.flow_from_directory(\n",
    "    test_path,\n",
    "    target_size = (150, 150),\n",
    "    batch_size = 32\n",
    ")"
   ]
  },
  {
   "cell_type": "code",
   "execution_count": null,
   "metadata": {},
   "outputs": [],
   "source": [
    "#Displaying the different types of data Classes\n",
    "\n",
    "\n",
    "train_dataset.class_indices"
   ]
  },
  {
   "cell_type": "code",
   "execution_count": null,
   "metadata": {},
   "outputs": [],
   "source": [
    "train_dataset.classes"
   ]
  },
  {
   "cell_type": "code",
   "execution_count": null,
   "metadata": {},
   "outputs": [],
   "source": [
    "# Loading the saved model from memory\n",
    "loaded_model = keras.models.load_model('Model1.h5')\n",
    "\n",
    "\n",
    "#printing the size of the input layer of the model\n",
    "loaded_model.layers[0].input_shape"
   ]
  },
  {
   "cell_type": "code",
   "execution_count": null,
   "metadata": {},
   "outputs": [],
   "source": [
    "#Predicated output values from the image\n",
    "\n",
    "\n",
    "predicted_classes = []\n",
    "positive = \"Dataset/Test/Covid/\"\n",
    "normal = \"Dataset/Test/Normal/\"\n",
    "\n",
    "for filename in os.listdir(positive):\n",
    "    img = image.load_img(positive + filename, target_size=(150, 150))\n",
    "    img = np.expand_dims(img, axis=0)\n",
    "    result = loaded_model.predict(img)\n",
    "    predicted_classes.append(int(result[0][0]))\n",
    "\n",
    "for filename in os.listdir(normal):\n",
    "    img = image.load_img(normal + filename, target_size=(150, 150))\n",
    "    img = np.expand_dims(img, axis=0)\n",
    "    result = loaded_model.predict(img)\n",
    "    predicted_classes.append(int(result[0][0]))"
   ]
  },
  {
   "cell_type": "code",
   "execution_count": null,
   "metadata": {},
   "outputs": [],
   "source": [
    "predicted_classes = np.array(predicted_classes)\n",
    "print(predicted_classes)"
   ]
  },
  {
   "cell_type": "code",
   "execution_count": null,
   "metadata": {},
   "outputs": [],
   "source": [
    "# Orginal output values\n",
    "\n",
    "\n",
    "true_classes = test_dataset.classes\n",
    "print(true_classes)"
   ]
  },
  {
   "cell_type": "code",
   "execution_count": null,
   "metadata": {},
   "outputs": [],
   "source": [
    "# The mismatched images\n",
    "\n",
    "\n",
    "mismatch = []\n",
    "for i in range(len(predicted_classes)):\n",
    "    if predicted_classes[i] != true_classes[i]:\n",
    "        mismatch.append(i+1)\n",
    "print(\"These are the images which have been mismatched: \",mismatch)"
   ]
  },
  {
   "cell_type": "code",
   "execution_count": null,
   "metadata": {},
   "outputs": [],
   "source": [
    "class_labels = list(test_dataset.class_indices.keys()) "
   ]
  },
  {
   "cell_type": "code",
   "execution_count": null,
   "metadata": {},
   "outputs": [],
   "source": [
    "# Report of the tested dataset analysis\n",
    "\n",
    "\n",
    "report = metrics.classification_report(true_classes, predicted_classes, target_names=class_labels)\n",
    "print(report)"
   ]
  },
  {
   "cell_type": "code",
   "execution_count": null,
   "metadata": {},
   "outputs": [],
   "source": [
    "conf_matrix = confusion_matrix(true_classes, predicted_classes)\n",
    "class_labels = ['Covid', 'Normal']\n",
    "\n",
    "plt.figure(figsize=(5, 5))\n",
    "sns.heatmap(conf_matrix, annot=True, xticklabels=class_labels, yticklabels=class_labels)\n",
    "plt.xlabel(\"Predicted\")\n",
    "plt.ylabel(\"Actual\")\n",
    "\n",
    "# plt.savefig(\"../Figures/Confusion Matrix.png\")"
   ]
  },
  {
   "attachments": {},
   "cell_type": "markdown",
   "metadata": {},
   "source": [
    "#"
   ]
  },
  {
   "attachments": {},
   "cell_type": "markdown",
   "metadata": {},
   "source": [
    "# Prediction Model"
   ]
  },
  {
   "cell_type": "code",
   "execution_count": null,
   "metadata": {},
   "outputs": [],
   "source": [
    "#Predicting multiple images at once\n",
    "\n",
    "image_paths = [\"Checking/Covid/COVID-114.png\"]\n",
    "\n",
    "for image_path in image_paths:\n",
    "    img = image.load_img(image_path, target_size=(150, 150))\n",
    "    plt.imshow(img)\n",
    "    img = np.expand_dims(img, axis=0)\n",
    "    result = loaded_model.predict(img)\n",
    "\n",
    "    # Determine the prediction label\n",
    "    if result[0][0] == 0.0:\n",
    "        prediction = \"Covid-19 Positive\"\n",
    "    else:\n",
    "        prediction = \"Covid-19 Negative\"\n",
    "\n",
    "    # Display the prediction\n",
    "    plt.title(\"Prediction: \" + prediction)\n",
    "    plt.show()\n"
   ]
  },
  {
   "cell_type": "code",
   "execution_count": null,
   "metadata": {},
   "outputs": [],
   "source": []
  }
 ],
 "metadata": {
  "kernelspec": {
   "display_name": "Python 3",
   "language": "python",
   "name": "python3"
  },
  "language_info": {
   "codemirror_mode": {
    "name": "ipython",
    "version": 3
   },
   "file_extension": ".py",
   "mimetype": "text/x-python",
   "name": "python",
   "nbconvert_exporter": "python",
   "pygments_lexer": "ipython3",
   "version": "3.11.3"
  },
  "orig_nbformat": 4
 },
 "nbformat": 4,
 "nbformat_minor": 2
}
