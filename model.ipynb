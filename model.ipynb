{
 "cells": [
  {
   "cell_type": "code",
   "execution_count": null,
   "metadata": {},
   "outputs": [],
   "source": [
    "import keras\n",
    "import matplotlib.pyplot as plt\n",
    "\n",
    "from keras.models import Sequential\n",
    "from keras.layers import Conv2D, MaxPool2D, Dropout, Flatten, Dense\n",
    "from keras.utils.vis_utils import plot_model\n",
    "from tensorflow.keras.preprocessing import image"
   ]
  },
  {
   "cell_type": "code",
   "execution_count": null,
   "metadata": {},
   "outputs": [],
   "source": [
    "train_path = \"Dataset/Train\"\n",
    "test_path = \"Dataset/Test\""
   ]
  },
  {
   "cell_type": "code",
   "execution_count": null,
   "metadata": {},
   "outputs": [],
   "source": [
    "model = Sequential()\n",
    "\n",
    "\n",
    "model.add(Conv2D(\n",
    "    filters = 32,\n",
    "    kernel_size = (3, 3),\n",
    "    activation=\"relu\",                    \n",
    "    input_shape=(150, 150, 3)\n",
    "))\n",
    "\n",
    "\n",
    "model.add(Conv2D(\n",
    "    filters = 64,\n",
    "    kernel_size = (3, 3),\n",
    "    activation = \"relu\"\n",
    "))\n",
    "model.add(MaxPool2D(2, 2))                               \n",
    "model.add(Dropout(0.2))  \n",
    "\n",
    "\n",
    "model.add(Conv2D(\n",
    "    filters = 128,\n",
    "    kernel_size = (3, 3),\n",
    "    activation=\"relu\"\n",
    "))\n",
    "model.add(MaxPool2D(2, 2))  \n",
    "model.add(Dropout(0.2)) \n",
    "\n",
    "\n",
    "model.add(Conv2D(\n",
    "    filters = 256,\n",
    "    kernel_size = (3, 3),\n",
    "    activation=\"relu\"\n",
    "    ))\n",
    "model.add(MaxPool2D(2,2))  \n",
    "model.add(Dropout(0.2)) \n",
    "\n",
    "\n",
    "model.add(Flatten())\n",
    "model.add(Dense(256, activation = \"relu\"))\n",
    "model.add(Dense(128, activation = \"relu\"))\n",
    "model.add(Dropout(0.5))\n",
    "model.add(Dense(1, activation = \"sigmoid\"))\n",
    "\n",
    "\n",
    "model.compile(loss=keras.losses.binary_crossentropy, optimizer='adam', metrics=['accuracy'])\n",
    "\n"
   ]
  },
  {
   "cell_type": "code",
   "execution_count": null,
   "metadata": {},
   "outputs": [],
   "source": [
    "model.summary()"
   ]
  },
  {
   "cell_type": "code",
   "execution_count": null,
   "metadata": {},
   "outputs": [],
   "source": [
    "plot_model(model)"
   ]
  },
  {
   "cell_type": "code",
   "execution_count": null,
   "metadata": {},
   "outputs": [],
   "source": [
    "train = image.ImageDataGenerator(rescale = 1/255)\n",
    "\n",
    "test = image.ImageDataGenerator(rescale = 1/255)"
   ]
  },
  {
   "cell_type": "code",
   "execution_count": null,
   "metadata": {},
   "outputs": [],
   "source": [
    "train_generator = train.flow_from_directory(\n",
    "    train_path,\n",
    "    target_size=(150,150),\n",
    "    batch_size=56,\n",
    "    class_mode='binary',\n",
    ")"
   ]
  },
  {
   "cell_type": "code",
   "execution_count": null,
   "metadata": {},
   "outputs": [],
   "source": [
    "test_generator = test.flow_from_directory(\n",
    "    test_path,\n",
    "    target_size=(150,150),\n",
    "    batch_size=32,\n",
    "    class_mode='binary'\n",
    ")"
   ]
  },
  {
   "cell_type": "code",
   "execution_count": null,
   "metadata": {},
   "outputs": [],
   "source": [
    "hist = model.fit(\n",
    "    train_generator,\n",
    "    steps_per_epoch=8,\n",
    "    epochs=30,\n",
    "    validation_data = test_generator,\n",
    "    validation_steps=2,\n",
    ")"
   ]
  },
  {
   "cell_type": "code",
   "execution_count": null,
   "metadata": {},
   "outputs": [],
   "source": [
    "model.evaluate(test_generator)"
   ]
  },
  {
   "cell_type": "code",
   "execution_count": null,
   "metadata": {},
   "outputs": [],
   "source": [
    "model.save('Model.h5')\n",
    "print(\"Model saved with name 'Model.h5'\")"
   ]
  },
  {
   "cell_type": "code",
   "execution_count": null,
   "metadata": {},
   "outputs": [],
   "source": [
    "h = hist.history\n",
    "h.keys()"
   ]
  },
  {
   "cell_type": "code",
   "execution_count": null,
   "metadata": {},
   "outputs": [],
   "source": [
    "plt.plot(h['accuracy'], label=\"Accuracy Training\")\n",
    "plt.plot(h['val_accuracy'] , c = \"red\", label=\"Val Accuracy Test\")\n",
    "plt.title(\"Acc vs V-Acc\")\n",
    "plt.legend()\n",
    "plt.show()"
   ]
  },
  {
   "cell_type": "code",
   "execution_count": null,
   "metadata": {},
   "outputs": [],
   "source": [
    "plt.plot(h['loss'],label=\"Loss Training\")\n",
    "plt.plot(h['val_loss'] , c = \"red\",label=\"Val Loss Test\")\n",
    "plt.title(\"Loss vs V-Loss\")\n",
    "plt.legend()\n",
    "plt.show()"
   ]
  },
  {
   "cell_type": "code",
   "execution_count": null,
   "metadata": {},
   "outputs": [],
   "source": [
    "epochs=30\n",
    "plt.figure()\n",
    "plt.title(\"Change in Accuracy with change in Loss for Training_Dataset\")\n",
    "plt.xlabel('Epochs')\n",
    "plt.plot([i for i in range(epochs)], h['loss'], label='Loss')\n",
    "plt.plot([i for i in range(epochs)], h['accuracy'], label = 'Accuracy')\n",
    "plt.legend()\n",
    "plt.ylim([0,1.5])"
   ]
  },
  {
   "cell_type": "code",
   "execution_count": null,
   "metadata": {},
   "outputs": [],
   "source": [
    "plt.figure()\n",
    "plt.title(\"Change in Accuracy with change in Loss for Test_Dataset\")\n",
    "plt.xlabel('Epochs')\n",
    "plt.plot([i for i in range(epochs)], h['val_loss'], label='Loss')\n",
    "plt.plot([i for i in range(epochs)], h['val_accuracy'], label = 'Accuracy')\n",
    "plt.legend()\n",
    "plt.ylim([0,1.5])"
   ]
  }
 ],
 "metadata": {
  "kernelspec": {
   "display_name": "Python 3",
   "language": "python",
   "name": "python3"
  },
  "language_info": {
   "codemirror_mode": {
    "name": "ipython",
    "version": 3
   },
   "file_extension": ".py",
   "mimetype": "text/x-python",
   "name": "python",
   "nbconvert_exporter": "python",
   "pygments_lexer": "ipython3",
   "version": "3.11.3"
  },
  "orig_nbformat": 4
 },
 "nbformat": 4,
 "nbformat_minor": 2
}
